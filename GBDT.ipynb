{
 "cells": [
  {
   "cell_type": "markdown",
   "metadata": {},
   "source": [
    "# 决策树"
   ]
  },
  {
   "cell_type": "code",
   "execution_count": 46,
   "metadata": {},
   "outputs": [],
   "source": [
    "import numpy as np\n",
    "import pandas as pd\n",
    "import math\n",
    "\n",
    "def stg_agg(n, c1, c2):\n",
    "    return math.sqrt((c2/ n) - (c1 / n)**2)\n",
    "\n",
    "class DecisionTree():\n",
    "    def __init__(self, x, y, idxs=None, min_leaf=2):\n",
    "        if idxs is None:\n",
    "            idxs = np.arange(len(y))\n",
    "        self.x, self.y, self.idxs, self.min_leaf = x, y, idxs, min_leaf\n",
    "        \n",
    "        # n个数，c列的个数\n",
    "        self.n, self.c = len(idxs), x.shape[1]\n",
    "        # 在idxs的均值\n",
    "        self.val = np.mean(y[idxs])\n",
    "        self.score = float('inf')\n",
    "        self.find_varsplit()\n",
    "        \n",
    "    def find_varsplit(self):\n",
    "        for i in range(self.c):\n",
    "            self.find_better_split(i)\n",
    "            \n",
    "        if self.score == float('inf'):\n",
    "            return\n",
    "        \n",
    "        x = self.split_col\n",
    "        # 获取左右子树的索引\n",
    "        lhs = np.nonzero(x <= self.split)[0]\n",
    "        rhs = np.nonzero(x > self.split)[0]\n",
    "        self.lhs = DecisionTree(self.x, self.y, self.idxs[lhs])\n",
    "        self.rhs = DecisionTree(self.x, self.y, self.idxs[rhs])\n",
    "        \n",
    "    def find_better_split(self, var_idx):\n",
    "        # var_idx：第var_idx个特征， idx横坐标\n",
    "        x, y = self.x.values[self.idxs, var_idx], self.y[self.idxs]\n",
    "        # 获取排序后的索引值\n",
    "        sort_idx = np.argsort(x)\n",
    "        # 获取排序之后的值\n",
    "        sort_x, sort_y = x[sort_idx], y[sort_idx]\n",
    "        # 一开始全是右子树\n",
    "        rhs_cnt, rhs_sum, rhs_sum2 = self.n, sort_y.sum(), (sort_y**2).sum()\n",
    "        \n",
    "        lhs_cnt, lhs_sum, lhs_sum2 = 0, 0., 0.\n",
    "        \n",
    "        # 一个一个分给左子树\n",
    "        for i in range(0, self.n - self.min_leaf - 1): # 保证右子树最少min_leaf个结点\n",
    "            xi, yi = sort_x[i], sort_y[i]\n",
    "            rhs_cnt -= 1; lhs_cnt += 1\n",
    "            rhs_sum -= yi; lhs_sum += yi\n",
    "            rhs_sum2 -= yi**2; lhs_sum2 += yi**2\n",
    "            # 当左子树结点小于min_leaf，或者xi == x[i+1]则不进行划分了\n",
    "            if i < self.min_leaf or xi == sort_x[i+1]:\n",
    "                continue\n",
    "            # 划分标准\n",
    "            lhs_std = stg_agg(lhs_cnt, lhs_sum, lhs_sum2)\n",
    "            rhs_std = stg_agg(rhs_cnt, rhs_sum, rhs_sum2)\n",
    "            curr_score = lhs_std*lhs_cnt + rhs_cnt*rhs_std\n",
    "            if curr_score < self.score:\n",
    "                self.var_idx, self.score, self.split = var_idx, curr_score, xi\n",
    "                \n",
    "    @property\n",
    "    def split_name(self): \n",
    "        return self.x.columns[self.var_idx]\n",
    "    \n",
    "    @property\n",
    "    def split_col(self):\n",
    "        return self.x.values[self.idxs, self.var_idx]\n",
    "    \n",
    "    # 判断本决策树是否是叶子节点，则此时self.var是叶子节点的值，其他情况是均值\n",
    "    @property\n",
    "    def is_leaf(self): \n",
    "        return self.score == float('inf')\n",
    "    \n",
    "    # 输出对象的格式\n",
    "    def __repr__(self):\n",
    "        s = f'n:{self.n}; var:{self.var}'\n",
    "        if not is_leaf():\n",
    "            s = f'score:{self.score}; split:{self.split}; var:{self.var}'\n",
    "        return s\n",
    "    \n",
    "    def predict(self, x):\n",
    "        return np.array([self.predict_row(xi) for xi in x])\n",
    "    \n",
    "    def predict_row(self, xi):\n",
    "        if is_leaf:\n",
    "            return self.var\n",
    "        t = self.lhs if xi[self.var_idx] < self.split else self.rhs\n",
    "        return t.predict_row(xi)"
   ]
  },
  {
   "cell_type": "code",
   "execution_count": 35,
   "metadata": {},
   "outputs": [
    {
     "data": {
      "text/plain": [
       "Text(0, 0.5, 'y')"
      ]
     },
     "execution_count": 35,
     "metadata": {},
     "output_type": "execute_result"
    },
    {
     "data": {
      "image/png": "[encoded data removed]",
      "text/plain": [
       "<Figure size 504x360 with 1 Axes>"
      ]
     },
     "metadata": {
      "needs_background": "light"
     },
     "output_type": "display_data"
    }
   ],
   "source": [
    "import matplotlib.pyplot as plt\n",
    "from sklearn import metrics\n",
    "%matplotlib inline\n",
    "\n",
    "\n",
    "x = np.arange(0,50)\n",
    "x = pd.DataFrame({'x':x})\n",
    "\n",
    "y1 = np.random.uniform(10,15,10)\n",
    "y2 = np.random.uniform(20,25,10)\n",
    "y3 = np.random.uniform(0,5,10)\n",
    "y4 = np.random.uniform(30,32,10)\n",
    "y5 = np.random.uniform(13,17,10)\n",
    "\n",
    "y = np.concatenate((y1,y2,y3,y4,y5))\n",
    "y = y[:,None] \n",
    "\n",
    "plt.figure(figsize=(7,5))\n",
    "plt.plot(x,y, 'o')\n",
    "plt.title(\"Scatter plot of x vs. y\")\n",
    "plt.xlabel(\"x\")\n",
    "plt.ylabel(\"y\") "
   ]
  },
  {
   "cell_type": "code",
   "execution_count": null,
   "metadata": {},
   "outputs": [],
   "source": [
    "xi = x # initialization of input\n",
    "yi = y # initialization of target\n",
    "# x,y --> use where no need to change original y\n",
    "ei = 0 # initialization of error\n",
    "n = len(yi)  # number of rows\n",
    "predf = 0 # initial prediction 0\n",
    "\n",
    "for i in range(30): # like n_estimators\n",
    "    tree = DecisionTree(xi,yi)\n",
    "    tree.find_better_split(0)\n",
    "    \n",
    "    r = np.where(xi == tree.split)[0][0]    \n",
    "    \n",
    "    left_idx = np.where(xi <= tree.split)[0]\n",
    "    right_idx = np.where(xi > tree.split)[0]\n",
    "    \n",
    "    predi = np.zeros(n)\n",
    "    np.put(predi, left_idx, np.repeat(np.mean(yi[left_idx]), r))  # replace left side mean y\n",
    "    np.put(predi, right_idx, np.repeat(np.mean(yi[right_idx]), n-r))  # right side mean y\n",
    "    \n",
    "    predi = predi[:,None]  # make long vector (nx1) in compatible with y\n",
    "    predf = predf + predi  # final prediction will be previous prediction value + new prediction of residual\n",
    "    \n",
    "    ei = y - predf  # needed originl y here as residual always from original y    \n",
    "    yi = ei # update yi as residual to reloop\n",
    "    \n",
    "    \n",
    "    # plotting after prediction\n",
    "    xa = np.array(x.x) # column name of x is x \n",
    "    order = np.argsort(xa)\n",
    "    xs = np.array(xa)[order]\n",
    "    ys = np.array(predf)[order]\n",
    "    \n",
    "    #epreds = np.array(epred[:,None])[order]\n",
    "\n",
    "    f, (ax1, ax2) = plt.subplots(1, 2, sharey=True, figsize = (13,2.5))\n",
    "\n",
    "    ax1.plot(x,y, 'o')\n",
    "    ax1.plot(xs, ys, 'r')\n",
    "    ax1.set_title(f'Prediction (Iteration {i+1})')\n",
    "    ax1.set_xlabel('x')\n",
    "    ax1.set_ylabel('y / y_pred')\n",
    "\n",
    "    ax2.plot(x, ei, 'go')\n",
    "    ax2.set_title(f'Residuals vs. x (Iteration {i+1})')\n",
    "    ax2.set_xlabel('x')\n",
    "    ax2.set_ylabel('Residuals') "
   ]
  },
  {
   "cell_type": "markdown",
   "metadata": {},
   "source": [
    "# GBDT"
   ]
  },
  {
   "cell_type": "markdown",
   "metadata": {},
   "source": [
    "而梯度提升树相关的模型，例如XGBoost，LightGBM，CatBoost等在建模的时候则往往不需要对特征进行归一化，对于特征中出现的极大极小值也有较好的鲁棒性<br>\n",
    "- 传统的表格(Tabular)类模型，基于梯度提升树的模型往往可以取得更好的成绩，我们对这些历史竞赛进行了统计，发现对于表格型的数据算法竞赛，超过90%以上的获奖方案目前都都是基于梯度提升树模型的。目前有些特定的领域，例如推荐，销量预测等问题慢慢地神经网络也展露头角；\n",
    "- 图像，NLP，序列化等非Tabular类的模型，Top的方案主要基于各种神经网络的；虽然早期也会有一些传统方案的，例如随机森林等，但是最近几年已经全部演化为了神经网络相关的模型。"
   ]
  },
  {
   "cell_type": "markdown",
   "metadata": {},
   "source": [
    "因为我们的目标是最小化$L(y, F(x)$，那么我们只需要做到$L(y, \\sum_{i=1}^t f_i(x) + f_{t+1}(x))$的值比$L(y, \\sum_{i=1}^tf_i(x))$尽可能的小。<br>\n",
    "此处我们进一步假设问题的$\\color{red}{损失函数L是可导的}$，这个假设在目前的很多问题中都是非常通用的，毕竟目前的常用的损失函数一半以上都是可导的。<br>\n",
    "\n",
    "即最大化$$max[L(y, \\sum_{i=1}^t f_i(x) + f_{t+1}(x)) - L(y, \\sum_{i=1}^tf_i(x))]$$\n",
    "令$c = \\sum_{i=1}^t f_i(x)$,则$$max[L(y, c + f_{t+1}(x)) - L(y, c)]$$\n",
    "根据泰勒公式：$$L(c + f_{t+1}(x)) \\approx L(c) + L^{'}(c)f_{t+1}(X)$$\n",
    "若$f_{t+1}(x) = -1 * L^{'}(c)$,则大约$$L(c + f_{t+1}(x)) = L(c) - L^{'}(c)^2 < L(c)$$\n",
    "所以用第t+1个决策树来拟合$f_{t+1}(x) = -1 * L^{'}(c)$，即拟合$\\color{red}{梯度}$"
   ]
  },
  {
   "cell_type": "code",
   "execution_count": 1,
   "metadata": {},
   "outputs": [
    {
     "name": "stdout",
     "output_type": "stream",
     "text": [
      "[1.0, 0.9583333333333334, 0.9504166666666667]\n"
     ]
    }
   ],
   "source": [
    "import time \n",
    "import numpy as np\n",
    "import matplotlib.pyplot as plt \n",
    "from sklearn import ensemble\n",
    "from sklearn import datasets\n",
    "from sklearn.model_selection import train_test_split\n",
    " \n",
    "data_list  = [datasets.load_iris(), datasets.load_digits()]\n",
    "data_list  = [(d.data, d.target) for d in data_list]\n",
    "data_list += [datasets.make_hastie_10_2()]\n",
    "names      = ['Iris Data', 'Digits Data', 'Hastie Data']\n",
    "\n",
    "n_gb       = []\n",
    "score_g    = []\n",
    "time_gb    = [] \n",
    "score_gb   = [] \n",
    "n_estimators = 500\n",
    "\n",
    "for X, y in data_list:\n",
    "    X_train, X_test, y_train, y_test = train_test_split(X, y, test_size=0.2,\n",
    "                                                        random_state=0)\n",
    " \n",
    "    gb = ensemble.GradientBoostingClassifier(n_estimators=n_estimators,random_state=0)\n",
    "    gb.fit(X_train, y_train)\n",
    "    score_gb.append(gb.score(X_test, y_test))  \n",
    "    n_gb.append(gb.n_estimators_) \n",
    "print(score_gb) "
   ]
  },
  {
   "cell_type": "code",
   "execution_count": null,
   "metadata": {},
   "outputs": [],
   "source": []
  }
 ],
 "metadata": {
  "kernelspec": {
   "display_name": "Python 3",
   "language": "python",
   "name": "python3"
  },
  "language_info": {
   "codemirror_mode": {
    "name": "ipython",
    "version": 3
   },
   "file_extension": ".py",
   "mimetype": "text/x-python",
   "name": "python",
   "nbconvert_exporter": "python",
   "pygments_lexer": "ipython3",
   "version": "3.7.6"
  }
 },
 "nbformat": 4,
 "nbformat_minor": 4
}
