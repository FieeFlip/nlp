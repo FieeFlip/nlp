{
 "cells": [
  {
   "cell_type": "markdown",
   "metadata": {},
   "source": [
    "而梯度提升树相关的模型，例如XGBoost，LightGBM，CatBoost等在建模的时候则往往不需要对特征进行归一化，对于特征中出现的极大极小值也有较好的鲁棒性<br>\n",
    "- 传统的表格(Tabular)类模型，基于梯度提升树的模型往往可以取得更好的成绩，我们对这些历史竞赛进行了统计，发现对于表格型的数据算法竞赛，超过90%以上的获奖方案目前都都是基于梯度提升树模型的。目前有些特定的领域，例如推荐，销量预测等问题慢慢地神经网络也展露头角；\n",
    "- 图像，NLP，序列化等非Tabular类的模型，Top的方案主要基于各种神经网络的；虽然早期也会有一些传统方案的，例如随机森林等，但是最近几年已经全部演化为了神经网络相关的模型。"
   ]
  },
  {
   "cell_type": "markdown",
   "metadata": {},
   "source": [
    "L(y,f(X))"
   ]
  },
  {
   "cell_type": "code",
   "execution_count": 1,
   "metadata": {},
   "outputs": [
    {
     "name": "stdout",
     "output_type": "stream",
     "text": [
      "[1.0, 0.9583333333333334, 0.9504166666666667]\n"
     ]
    }
   ],
   "source": [
    "import time \n",
    "import numpy as np\n",
    "import matplotlib.pyplot as plt \n",
    "from sklearn import ensemble\n",
    "from sklearn import datasets\n",
    "from sklearn.model_selection import train_test_split\n",
    " \n",
    "data_list  = [datasets.load_iris(), datasets.load_digits()]\n",
    "data_list  = [(d.data, d.target) for d in data_list]\n",
    "data_list += [datasets.make_hastie_10_2()]\n",
    "names      = ['Iris Data', 'Digits Data', 'Hastie Data']\n",
    "\n",
    "n_gb       = []\n",
    "score_g    = []\n",
    "time_gb    = [] \n",
    "score_gb   = [] \n",
    "n_estimators = 500\n",
    "\n",
    "for X, y in data_list:\n",
    "    X_train, X_test, y_train, y_test = train_test_split(X, y, test_size=0.2,\n",
    "                                                        random_state=0)\n",
    " \n",
    "    gb = ensemble.GradientBoostingClassifier(n_estimators=n_estimators,random_state=0)\n",
    "    gb.fit(X_train, y_train)\n",
    "    score_gb.append(gb.score(X_test, y_test))  \n",
    "    n_gb.append(gb.n_estimators_) \n",
    "print(score_gb) "
   ]
  },
  {
   "cell_type": "code",
   "execution_count": null,
   "metadata": {},
   "outputs": [],
   "source": []
  }
 ],
 "metadata": {
  "kernelspec": {
   "display_name": "Python 3",
   "language": "python",
   "name": "python3"
  },
  "language_info": {
   "codemirror_mode": {
    "name": "ipython",
    "version": 3
   },
   "file_extension": ".py",
   "mimetype": "text/x-python",
   "name": "python",
   "nbconvert_exporter": "python",
   "pygments_lexer": "ipython3",
   "version": "3.7.6"
  }
 },
 "nbformat": 4,
 "nbformat_minor": 4
}
