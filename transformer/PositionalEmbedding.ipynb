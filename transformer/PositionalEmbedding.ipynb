{
 "cells": [
  {
   "cell_type": "markdown",
   "metadata": {},
   "source": [
    "https://mp.weixin.qq.com/s/QlR528MYCioEuYwJIs20Pg\n"
   ]
  },
  {
   "cell_type": "markdown",
   "metadata": {},
   "source": [
    "## 绝对位置编码"
   ]
  },
  {
   "cell_type": "markdown",
   "metadata": {},
   "source": [
    "公式：\n",
    "$$\\begin{aligned}\n",
    "P E_{(p o s, 2 i)} &=\\sin \\left(p o s / 10000^{2 i / d_{\\text {model }}}\\right) \\\\\n",
    "P E_{(p o s, 2 i+1)} &=\\cos \\left(p o s / 10000^{2 i / d_{\\text {model }}}\\right)\n",
    "\\end{aligned}$$\n",
    "`pos`是句子中`word`的位置，`i`是embedding中位置。上边是偶数的公式，下边是奇数的公式。"
   ]
  },
  {
   "attachments": {},
   "cell_type": "markdown",
   "metadata": {},
   "source": [
    "- 对于固定的`pos`，`embedding`中的每个位置大小如图所示：<br/>\n",
    "对于`pos`为0:\n",
    "<img src=\"图片/capture_20210719130124661.bmp\" width=\"700\"/><br/>\n",
    "对于`pos`为101:\n",
    "<img src=\"图片/capture_20210719130224465.bmp\" width=\"700\"/>\n",
    "可见，pos从0到101，图像左边会摆动的越来越厉害；i从0到512，前边的值摆动的厉害，后边的值不再发生变化。"
   ]
  },
  {
   "cell_type": "markdown",
   "metadata": {},
   "source": [
    "- 对于固定的`i`，`pos`中的每个位置大小如图所示：<br/>\n",
    "对于`i`为0,1:\n",
    "<img src=\"图片/capture_20210719130539418.bmp\" width=\"700\"/><br/>\n",
    "对于`i`为511,512:\n",
    "<img src=\"图片/capture_20210719130830621.bmp\" width=\"700\"/><br/>\n",
    "可见，`i`从0,1到511,512，值越来越不变化。"
   ]
  },
  {
   "cell_type": "markdown",
   "metadata": {},
   "source": [
    "对于短句子加不加`position embedding`都行，但对于长句子，加了`position embedding`提升效果明显，虽然高维度的`embedding`并不起作用。"
   ]
  },
  {
   "cell_type": "markdown",
   "metadata": {},
   "source": [
    "## 相对位置编码\n",
    "相对位置并没有完整建模每个输入的位置信息，而是在算 Attention 的时候考虑当前位置与被 Attention 的位置的相对距离"
   ]
  },
  {
   "cell_type": "markdown",
   "metadata": {},
   "source": [
    "### 2.1 经典式\n",
    "相对位置编码起源于 Google 的论文《Self-Attention with Relative Position Representations》，后面各种相对位置编码变体基本也是依葫芦画瓢的简单修改。"
   ]
  },
  {
   "cell_type": "markdown",
   "metadata": {},
   "source": [
    "加入绝对位置编码的attention公式"
   ]
  },
  {
   "cell_type": "markdown",
   "metadata": {},
   "source": [
    "$$\\left\\{\\begin{aligned} \\boldsymbol{q}_{i} &=\\left(\\boldsymbol{x}_{i}+\\boldsymbol{p}_{i}\\right) \\boldsymbol{W}_{Q} \\\\ \\boldsymbol{k}_{j} &=\\left(\\boldsymbol{x}_{j}+\\boldsymbol{p}_{j}\\right) \\boldsymbol{W}_{K} \\\\ \\boldsymbol{v}_{j} &=\\left(\\boldsymbol{x}_{j}+\\boldsymbol{p}_{j}\\right) \\boldsymbol{W}_{V} \\\\ a_{i, j} &=\\operatorname{softmax}\\left(\\boldsymbol{q}_{i} \\boldsymbol{k}_{j}^{\\top}\\right) \\\\ \\boldsymbol{o}_{i} &=\\sum_{j} a_{i, j} \\boldsymbol{v}_{j} \\end{aligned}\\right.$$"
   ]
  },
  {
   "cell_type": "markdown",
   "metadata": {},
   "source": [
    "$$\\boldsymbol{q}_{\\boldsymbol{i}} \\boldsymbol{k}_{j}^{\\top}=\\left(\\boldsymbol{x}_{i}+\\boldsymbol{p}_{i}\\right) \\boldsymbol{W}_{Q} \\boldsymbol{W}_{K}^{\\top}\\left(\\boldsymbol{x}_{j}+\\boldsymbol{p}_{j}\\right)^{\\top}=\\left(\\boldsymbol{x}_{i} \\boldsymbol{W}_{Q}+\\boldsymbol{p}_{i} \\boldsymbol{W}_{Q}\\right)\\left(\\boldsymbol{W}_{K}^{\\top} \\boldsymbol{x}_{j}^{\\top}+\\boldsymbol{W}_{K}^{\\top} \\boldsymbol{p}_{j}^{\\top}\\right)$$"
   ]
  },
  {
   "cell_type": "markdown",
   "metadata": {},
   "source": [
    "1. 为了加入相对位置信息，Google把$p_iW_Q$去掉，$p_jW_K$换成$R_{i,j}^K$。变成："
   ]
  },
  {
   "cell_type": "markdown",
   "metadata": {},
   "source": [
    "$$a_{i, j}=\\operatorname{softmax}\\left(\\boldsymbol{x}_{i} \\boldsymbol{W}_{Q}\\left(\\boldsymbol{x}_{j} \\boldsymbol{W}_{K}+\\boldsymbol{R}_{i, j}^{K}\\right)^{\\top}\\right)$$"
   ]
  },
  {
   "cell_type": "markdown",
   "metadata": {},
   "source": [
    "把$o_i$展开："
   ]
  },
  {
   "cell_type": "markdown",
   "metadata": {},
   "source": [
    "$$\\boldsymbol{o}_{i}=\\sum_{j} a_{i, j} \\boldsymbol{v}_{j}=\\sum_{j} a_{i, j}\\left(\\boldsymbol{x}_{j} \\boldsymbol{W}_{V}+\\boldsymbol{p}_{j} \\boldsymbol{W}_{V}\\right)$$"
   ]
  },
  {
   "cell_type": "markdown",
   "metadata": {},
   "source": [
    "2. Google又把$p_jW_V$变成$R_{i,j}^V$："
   ]
  },
  {
   "cell_type": "markdown",
   "metadata": {},
   "source": [
    "$$\\boldsymbol{o}_{i}=\\sum_{j} a_{i, j}\\left(\\boldsymbol{x}_{j} \\boldsymbol{W}_{V}+\\boldsymbol{R}_{i, j}^{V}\\right)$$"
   ]
  },
  {
   "cell_type": "markdown",
   "metadata": {},
   "source": [
    "3. Google进行了裁剪"
   ]
  },
  {
   "attachments": {
    "image.png": {
     "image/png": "[encoded data removed]"
    }
   },
   "cell_type": "markdown",
   "metadata": {},
   "source": [
    "![image.png](attachment:image.png)"
   ]
  },
  {
   "cell_type": "markdown",
   "metadata": {},
   "source": [
    "注意clip函数是进行了裁剪，k是超参数："
   ]
  },
  {
   "cell_type": "markdown",
   "metadata": {},
   "source": [
    "$$\\begin{aligned} R_{i j}^{K} &=w_{\\mathrm{clip}(j-i, k)}^{K} \\\\ R_{i j}^{V} &=w_{\\mathrm{clip}(j-i, k)}^{V} \\end{aligned}$$\n",
    "$$\\operatorname{clip}(x, k)=\\max (-k, \\min (k, x))$$"
   ]
  },
  {
   "cell_type": "markdown",
   "metadata": {},
   "source": [
    "<b>所以Google加入相对位置编码就是加入了$R_{i,j}^K$与$R_{i,j}^V$(可转换为$w^{K}=\\left(w_{-k}^{K}, \\ldots, w_{k}^{K}\\right)$ 和 $w^{V}=\\left(w_{-k}^{V}, \\ldots, w_{k}^{V}\\right)$)，而这两个矩阵可以是可学习的参数。<b/>"
   ]
  },
  {
   "cell_type": "code",
   "execution_count": 8,
   "metadata": {},
   "outputs": [],
   "source": [
    "import torch\n",
    "import torch.nn as nn\n",
    "import numpy as np\n",
    "from torch.autograd import Variable"
   ]
  },
  {
   "cell_type": "code",
   "execution_count": 6,
   "metadata": {},
   "outputs": [],
   "source": [
    "def clip(a, b):\n",
    "    return max(-b, min(a, b))"
   ]
  },
  {
   "cell_type": "code",
   "execution_count": 30,
   "metadata": {},
   "outputs": [],
   "source": [
    "# 计算R矩阵\n",
    "def matrixR(x, k=None):\n",
    "    batch_size = x.size(0)\n",
    "    heads = x.size(1)\n",
    "    seq_len = x.size(-2)\n",
    "    d_k = x.size(-1)\n",
    "    \n",
    "    if k is None:\n",
    "        k = seq_len - 4\n",
    "        \n",
    "    if k < 2:\n",
    "        k = 2\n",
    "    \n",
    "    w = np.random.normal(0, 1, size=(2*k+1, d_k))\n",
    "    R = np.zeros((batch_size, 1, seq_len, seq_len, d_k))\n",
    "    for i in range(seq_len):\n",
    "        for j in range(seq_len):\n",
    "            R[:,:,i,j,:] = w[clip(j-i, k),:]\n",
    "            \n",
    "    return R"
   ]
  },
  {
   "cell_type": "code",
   "execution_count": 31,
   "metadata": {},
   "outputs": [
    {
     "data": {
      "text/plain": [
       "array([[[[[-0.38889075,  0.2655359 ,  0.55510042, -2.45709074],\n",
       "          [-0.58475525,  0.38610033, -1.01850389, -0.02605846],\n",
       "          [ 1.38153885,  0.99600121, -0.35653947,  0.51336005],\n",
       "          [ 1.38153885,  0.99600121, -0.35653947,  0.51336005]],\n",
       "\n",
       "         [[-2.15918999, -0.33463596, -0.18015831, -1.72284773],\n",
       "          [-0.38889075,  0.2655359 ,  0.55510042, -2.45709074],\n",
       "          [-0.58475525,  0.38610033, -1.01850389, -0.02605846],\n",
       "          [ 1.38153885,  0.99600121, -0.35653947,  0.51336005]],\n",
       "\n",
       "         [[-0.30118161, -0.43487561,  0.75462576, -0.77575317],\n",
       "          [-2.15918999, -0.33463596, -0.18015831, -1.72284773],\n",
       "          [-0.38889075,  0.2655359 ,  0.55510042, -2.45709074],\n",
       "          [-0.58475525,  0.38610033, -1.01850389, -0.02605846]],\n",
       "\n",
       "         [[-0.30118161, -0.43487561,  0.75462576, -0.77575317],\n",
       "          [-0.30118161, -0.43487561,  0.75462576, -0.77575317],\n",
       "          [-2.15918999, -0.33463596, -0.18015831, -1.72284773],\n",
       "          [-0.38889075,  0.2655359 ,  0.55510042, -2.45709074]]]],\n",
       "\n",
       "\n",
       "\n",
       "       [[[[-0.38889075,  0.2655359 ,  0.55510042, -2.45709074],\n",
       "          [-0.58475525,  0.38610033, -1.01850389, -0.02605846],\n",
       "          [ 1.38153885,  0.99600121, -0.35653947,  0.51336005],\n",
       "          [ 1.38153885,  0.99600121, -0.35653947,  0.51336005]],\n",
       "\n",
       "         [[-2.15918999, -0.33463596, -0.18015831, -1.72284773],\n",
       "          [-0.38889075,  0.2655359 ,  0.55510042, -2.45709074],\n",
       "          [-0.58475525,  0.38610033, -1.01850389, -0.02605846],\n",
       "          [ 1.38153885,  0.99600121, -0.35653947,  0.51336005]],\n",
       "\n",
       "         [[-0.30118161, -0.43487561,  0.75462576, -0.77575317],\n",
       "          [-2.15918999, -0.33463596, -0.18015831, -1.72284773],\n",
       "          [-0.38889075,  0.2655359 ,  0.55510042, -2.45709074],\n",
       "          [-0.58475525,  0.38610033, -1.01850389, -0.02605846]],\n",
       "\n",
       "         [[-0.30118161, -0.43487561,  0.75462576, -0.77575317],\n",
       "          [-0.30118161, -0.43487561,  0.75462576, -0.77575317],\n",
       "          [-2.15918999, -0.33463596, -0.18015831, -1.72284773],\n",
       "          [-0.38889075,  0.2655359 ,  0.55510042, -2.45709074]]]]])"
      ]
     },
     "execution_count": 31,
     "metadata": {},
     "output_type": "execute_result"
    }
   ],
   "source": [
    "# 一个batch，两个句子，一个句子4个embedding, 每个embedding有4维\n",
    "x = [[[-3.1010,  3.0988, -1.3545,  3.3511],\n",
    "         [-1.5784,  1.3254, -0.2466, -0.5483],\n",
    "         [-3.8037, -1.0925, -2.0817, -4.5298],\n",
    "         [-0.2510,  0.9893, -0.8365, -0.8189]],\n",
    "\n",
    "        [[-3.8037, -1.0925, -2.0817, -4.5298],\n",
    "         [-3.1010,  3.0988, -1.3545,  3.3511],\n",
    "         [ 0.2816,  1.5528, -0.7460, -3.6551],\n",
    "         [ 0.3563,  1.8566,  1.4065, -2.0100]]]\n",
    "x = torch.tensor(x)\n",
    "matrixR(x)"
   ]
  },
  {
   "cell_type": "code",
   "execution_count": 32,
   "metadata": {},
   "outputs": [],
   "source": [
    "# q:[batch_size, heads, seq_len, d_k] \n",
    "def attention(q, k, v, d_k, mask=None, dropout=None):\n",
    "    # R_{i,j}^K : [batch_size, 1, seq_len, seq_len, d_k]\n",
    "    Rk = matrixR(k)\n",
    "    Rk = Variable(Rk, requires_grad=True)\n",
    "    \n",
    "    # R_{i,j}^V\n",
    "    Rv = matrixR(v)\n",
    "    Rv = Variable(Rv, requires_grad=True)\n",
    "    \n",
    "    # 太难了，不会写\n",
    "    # score = [batch_size, heads, seq_len, seq_len]\n",
    "    score = (torch.matmul(q, k.transpose(-2, -1)) + torch.matmul(q, Rk.transpose())) / math.sqrt(d_k)\n",
    "    \n",
    "    #  mask 机制，在 Transformer 中有 attention、encoder 和 decoder 中，有不同的应用\n",
    "    if mask is not None:\n",
    "        score = score.masked_fill(mask == 0, -1e9)\n",
    "        \n",
    "    \n",
    "    \n",
    "        \n",
    "    softmax = F.softmax(score[-1])\n",
    "    \n",
    "    if dropout is not None:\n",
    "        softmax = dropout(softmax)\n",
    "    \n",
    "    output = torch.matmul(softmax, v)\n",
    "    return output"
   ]
  },
  {
   "cell_type": "code",
   "execution_count": null,
   "metadata": {},
   "outputs": [],
   "source": []
  }
 ],
 "metadata": {
  "kernelspec": {
   "display_name": "Python 3",
   "language": "python",
   "name": "python3"
  },
  "language_info": {
   "codemirror_mode": {
    "name": "ipython",
    "version": 3
   },
   "file_extension": ".py",
   "mimetype": "text/x-python",
   "name": "python",
   "nbconvert_exporter": "python",
   "pygments_lexer": "ipython3",
   "version": "3.7.6"
  }
 },
 "nbformat": 4,
 "nbformat_minor": 4
}
